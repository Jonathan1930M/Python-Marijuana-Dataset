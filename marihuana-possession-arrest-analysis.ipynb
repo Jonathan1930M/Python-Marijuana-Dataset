{
 "cells": [
  {
   "cell_type": "markdown",
   "id": "3eff60cc",
   "metadata": {},
   "source": [
    "# Análisis de arrestos por posesión de marihuana\n",
    "El siguiente dataste fue descargado de kaggle. Es un dataset con 5226 filas y 8 columnas.\n",
    "#### - released:\n",
    "Si la persona arrestada fue puesto en libertad o no.\n",
    "#### - colour:\n",
    "La raza de la persona arrestada.\n",
    "#### - year:\n",
    "Año del arresto.\n",
    "#### - age:\n",
    "Edad de la persona arrestada.\n",
    "#### - sex:\n",
    "Sexo de la persona arrestada.\n",
    "#### - employed:\n",
    "Una variable con resultados: Si/No\n",
    "#### - citizen: \n",
    "Una variable con resultados: Si/No\n",
    "#### - checks:\n",
    "Numero de arrestos que ha tenido la persona."
   ]
  },
  {
   "cell_type": "code",
   "execution_count": 1,
   "id": "e4d6e41e",
   "metadata": {},
   "outputs": [],
   "source": [
    "#Importamos las librerías que utilizaremos para nuestro analisis.\n",
    "import pandas as pd\n",
    "import numpy as np\n",
    "import matplotlib.pyplot as plt\n",
    "import seaborn as sns"
   ]
  },
  {
   "cell_type": "code",
   "execution_count": 5,
   "id": "f083d02b",
   "metadata": {},
   "outputs": [
    {
     "data": {
      "text/html": [
       "<div>\n",
       "<style scoped>\n",
       "    .dataframe tbody tr th:only-of-type {\n",
       "        vertical-align: middle;\n",
       "    }\n",
       "\n",
       "    .dataframe tbody tr th {\n",
       "        vertical-align: top;\n",
       "    }\n",
       "\n",
       "    .dataframe thead th {\n",
       "        text-align: right;\n",
       "    }\n",
       "</style>\n",
       "<table border=\"1\" class=\"dataframe\">\n",
       "  <thead>\n",
       "    <tr style=\"text-align: right;\">\n",
       "      <th></th>\n",
       "      <th>Unnamed: 0</th>\n",
       "      <th>released</th>\n",
       "      <th>colour</th>\n",
       "      <th>year</th>\n",
       "      <th>age</th>\n",
       "      <th>sex</th>\n",
       "      <th>employed</th>\n",
       "      <th>citizen</th>\n",
       "      <th>checks</th>\n",
       "    </tr>\n",
       "  </thead>\n",
       "  <tbody>\n",
       "    <tr>\n",
       "      <th>0</th>\n",
       "      <td>1</td>\n",
       "      <td>Yes</td>\n",
       "      <td>White</td>\n",
       "      <td>2002</td>\n",
       "      <td>21</td>\n",
       "      <td>Male</td>\n",
       "      <td>Yes</td>\n",
       "      <td>Yes</td>\n",
       "      <td>3</td>\n",
       "    </tr>\n",
       "    <tr>\n",
       "      <th>1</th>\n",
       "      <td>2</td>\n",
       "      <td>No</td>\n",
       "      <td>Black</td>\n",
       "      <td>1999</td>\n",
       "      <td>17</td>\n",
       "      <td>Male</td>\n",
       "      <td>Yes</td>\n",
       "      <td>Yes</td>\n",
       "      <td>3</td>\n",
       "    </tr>\n",
       "    <tr>\n",
       "      <th>2</th>\n",
       "      <td>3</td>\n",
       "      <td>Yes</td>\n",
       "      <td>White</td>\n",
       "      <td>2000</td>\n",
       "      <td>24</td>\n",
       "      <td>Male</td>\n",
       "      <td>Yes</td>\n",
       "      <td>Yes</td>\n",
       "      <td>3</td>\n",
       "    </tr>\n",
       "    <tr>\n",
       "      <th>3</th>\n",
       "      <td>4</td>\n",
       "      <td>No</td>\n",
       "      <td>Black</td>\n",
       "      <td>2000</td>\n",
       "      <td>46</td>\n",
       "      <td>Male</td>\n",
       "      <td>Yes</td>\n",
       "      <td>Yes</td>\n",
       "      <td>1</td>\n",
       "    </tr>\n",
       "    <tr>\n",
       "      <th>4</th>\n",
       "      <td>5</td>\n",
       "      <td>Yes</td>\n",
       "      <td>Black</td>\n",
       "      <td>1999</td>\n",
       "      <td>27</td>\n",
       "      <td>Female</td>\n",
       "      <td>Yes</td>\n",
       "      <td>Yes</td>\n",
       "      <td>1</td>\n",
       "    </tr>\n",
       "  </tbody>\n",
       "</table>\n",
       "</div>"
      ],
      "text/plain": [
       "   Unnamed: 0 released colour  year  age     sex employed citizen  checks\n",
       "0           1      Yes  White  2002   21    Male      Yes     Yes       3\n",
       "1           2       No  Black  1999   17    Male      Yes     Yes       3\n",
       "2           3      Yes  White  2000   24    Male      Yes     Yes       3\n",
       "3           4       No  Black  2000   46    Male      Yes     Yes       1\n",
       "4           5      Yes  Black  1999   27  Female      Yes     Yes       1"
      ]
     },
     "execution_count": 5,
     "metadata": {},
     "output_type": "execute_result"
    }
   ],
   "source": [
    "#Cargamos los datos del dataset.\n",
    "df_arrest = pd.read_csv('./arrest.csv')\n",
    "df_arrest.head()"
   ]
  },
  {
   "cell_type": "code",
   "execution_count": 12,
   "id": "60195764",
   "metadata": {},
   "outputs": [
    {
     "data": {
      "text/plain": [
       "(5226, 9)"
      ]
     },
     "execution_count": 12,
     "metadata": {},
     "output_type": "execute_result"
    }
   ],
   "source": [
    "df_arrest.shape"
   ]
  },
  {
   "cell_type": "code",
   "execution_count": 10,
   "id": "e4843e33",
   "metadata": {},
   "outputs": [
    {
     "name": "stdout",
     "output_type": "stream",
     "text": [
      "<class 'pandas.core.frame.DataFrame'>\n",
      "RangeIndex: 5226 entries, 0 to 5225\n",
      "Data columns (total 9 columns):\n",
      " #   Column      Non-Null Count  Dtype \n",
      "---  ------      --------------  ----- \n",
      " 0   Unnamed: 0  5226 non-null   int64 \n",
      " 1   released    5226 non-null   object\n",
      " 2   colour      5226 non-null   object\n",
      " 3   year        5226 non-null   int64 \n",
      " 4   age         5226 non-null   int64 \n",
      " 5   sex         5226 non-null   object\n",
      " 6   employed    5226 non-null   object\n",
      " 7   citizen     5226 non-null   object\n",
      " 8   checks      5226 non-null   int64 \n",
      "dtypes: int64(4), object(5)\n",
      "memory usage: 367.6+ KB\n"
     ]
    }
   ],
   "source": [
    "#Exploramos un poco el dataset\n",
    "df_arrest.info()"
   ]
  },
  {
   "cell_type": "code",
   "execution_count": 11,
   "id": "f9193d12",
   "metadata": {},
   "outputs": [
    {
     "data": {
      "text/html": [
       "<div>\n",
       "<style scoped>\n",
       "    .dataframe tbody tr th:only-of-type {\n",
       "        vertical-align: middle;\n",
       "    }\n",
       "\n",
       "    .dataframe tbody tr th {\n",
       "        vertical-align: top;\n",
       "    }\n",
       "\n",
       "    .dataframe thead th {\n",
       "        text-align: right;\n",
       "    }\n",
       "</style>\n",
       "<table border=\"1\" class=\"dataframe\">\n",
       "  <thead>\n",
       "    <tr style=\"text-align: right;\">\n",
       "      <th></th>\n",
       "      <th>Unnamed: 0</th>\n",
       "      <th>year</th>\n",
       "      <th>age</th>\n",
       "      <th>checks</th>\n",
       "    </tr>\n",
       "  </thead>\n",
       "  <tbody>\n",
       "    <tr>\n",
       "      <th>count</th>\n",
       "      <td>5226.000000</td>\n",
       "      <td>5226.000000</td>\n",
       "      <td>5226.000000</td>\n",
       "      <td>5226.000000</td>\n",
       "    </tr>\n",
       "    <tr>\n",
       "      <th>mean</th>\n",
       "      <td>2613.500000</td>\n",
       "      <td>1999.509376</td>\n",
       "      <td>23.846537</td>\n",
       "      <td>1.636433</td>\n",
       "    </tr>\n",
       "    <tr>\n",
       "      <th>std</th>\n",
       "      <td>1508.760584</td>\n",
       "      <td>1.390056</td>\n",
       "      <td>8.316133</td>\n",
       "      <td>1.539230</td>\n",
       "    </tr>\n",
       "    <tr>\n",
       "      <th>min</th>\n",
       "      <td>1.000000</td>\n",
       "      <td>1997.000000</td>\n",
       "      <td>12.000000</td>\n",
       "      <td>0.000000</td>\n",
       "    </tr>\n",
       "    <tr>\n",
       "      <th>25%</th>\n",
       "      <td>1307.250000</td>\n",
       "      <td>1998.000000</td>\n",
       "      <td>18.000000</td>\n",
       "      <td>0.000000</td>\n",
       "    </tr>\n",
       "    <tr>\n",
       "      <th>50%</th>\n",
       "      <td>2613.500000</td>\n",
       "      <td>2000.000000</td>\n",
       "      <td>21.000000</td>\n",
       "      <td>1.000000</td>\n",
       "    </tr>\n",
       "    <tr>\n",
       "      <th>75%</th>\n",
       "      <td>3919.750000</td>\n",
       "      <td>2001.000000</td>\n",
       "      <td>27.000000</td>\n",
       "      <td>3.000000</td>\n",
       "    </tr>\n",
       "    <tr>\n",
       "      <th>max</th>\n",
       "      <td>5226.000000</td>\n",
       "      <td>2002.000000</td>\n",
       "      <td>66.000000</td>\n",
       "      <td>6.000000</td>\n",
       "    </tr>\n",
       "  </tbody>\n",
       "</table>\n",
       "</div>"
      ],
      "text/plain": [
       "        Unnamed: 0         year          age       checks\n",
       "count  5226.000000  5226.000000  5226.000000  5226.000000\n",
       "mean   2613.500000  1999.509376    23.846537     1.636433\n",
       "std    1508.760584     1.390056     8.316133     1.539230\n",
       "min       1.000000  1997.000000    12.000000     0.000000\n",
       "25%    1307.250000  1998.000000    18.000000     0.000000\n",
       "50%    2613.500000  2000.000000    21.000000     1.000000\n",
       "75%    3919.750000  2001.000000    27.000000     3.000000\n",
       "max    5226.000000  2002.000000    66.000000     6.000000"
      ]
     },
     "execution_count": 11,
     "metadata": {},
     "output_type": "execute_result"
    }
   ],
   "source": [
    "df_arrest.describe()"
   ]
  },
  {
   "cell_type": "markdown",
   "id": "7143af17",
   "metadata": {},
   "source": [
    "Podemos observar que la media de edad de los arrestos es de 23 años, en el año de 1999 y que los arrestados han tenido al menos un arresto anteriormente.\n",
    "Tambien vemos que la edad minima de los arrestos es de 12 años y la maxima es de 66 años.\n",
    "Y que los arrestos maximos que han tenido anteriormente es de 6."
   ]
  },
  {
   "cell_type": "markdown",
   "id": "f958dc48",
   "metadata": {},
   "source": [
    "## Limpieza de datos"
   ]
  },
  {
   "cell_type": "markdown",
   "id": "c12c9bf4",
   "metadata": {},
   "source": [
    "Eliminamos la columna que no ocuparemos."
   ]
  },
  {
   "cell_type": "code",
   "execution_count": 14,
   "id": "3512e703",
   "metadata": {},
   "outputs": [
    {
     "data": {
      "text/html": [
       "<div>\n",
       "<style scoped>\n",
       "    .dataframe tbody tr th:only-of-type {\n",
       "        vertical-align: middle;\n",
       "    }\n",
       "\n",
       "    .dataframe tbody tr th {\n",
       "        vertical-align: top;\n",
       "    }\n",
       "\n",
       "    .dataframe thead th {\n",
       "        text-align: right;\n",
       "    }\n",
       "</style>\n",
       "<table border=\"1\" class=\"dataframe\">\n",
       "  <thead>\n",
       "    <tr style=\"text-align: right;\">\n",
       "      <th></th>\n",
       "      <th>released</th>\n",
       "      <th>colour</th>\n",
       "      <th>year</th>\n",
       "      <th>age</th>\n",
       "      <th>sex</th>\n",
       "      <th>employed</th>\n",
       "      <th>citizen</th>\n",
       "      <th>checks</th>\n",
       "    </tr>\n",
       "  </thead>\n",
       "  <tbody>\n",
       "    <tr>\n",
       "      <th>0</th>\n",
       "      <td>Yes</td>\n",
       "      <td>White</td>\n",
       "      <td>2002</td>\n",
       "      <td>21</td>\n",
       "      <td>Male</td>\n",
       "      <td>Yes</td>\n",
       "      <td>Yes</td>\n",
       "      <td>3</td>\n",
       "    </tr>\n",
       "    <tr>\n",
       "      <th>1</th>\n",
       "      <td>No</td>\n",
       "      <td>Black</td>\n",
       "      <td>1999</td>\n",
       "      <td>17</td>\n",
       "      <td>Male</td>\n",
       "      <td>Yes</td>\n",
       "      <td>Yes</td>\n",
       "      <td>3</td>\n",
       "    </tr>\n",
       "    <tr>\n",
       "      <th>2</th>\n",
       "      <td>Yes</td>\n",
       "      <td>White</td>\n",
       "      <td>2000</td>\n",
       "      <td>24</td>\n",
       "      <td>Male</td>\n",
       "      <td>Yes</td>\n",
       "      <td>Yes</td>\n",
       "      <td>3</td>\n",
       "    </tr>\n",
       "    <tr>\n",
       "      <th>3</th>\n",
       "      <td>No</td>\n",
       "      <td>Black</td>\n",
       "      <td>2000</td>\n",
       "      <td>46</td>\n",
       "      <td>Male</td>\n",
       "      <td>Yes</td>\n",
       "      <td>Yes</td>\n",
       "      <td>1</td>\n",
       "    </tr>\n",
       "    <tr>\n",
       "      <th>4</th>\n",
       "      <td>Yes</td>\n",
       "      <td>Black</td>\n",
       "      <td>1999</td>\n",
       "      <td>27</td>\n",
       "      <td>Female</td>\n",
       "      <td>Yes</td>\n",
       "      <td>Yes</td>\n",
       "      <td>1</td>\n",
       "    </tr>\n",
       "  </tbody>\n",
       "</table>\n",
       "</div>"
      ],
      "text/plain": [
       "  released colour  year  age     sex employed citizen  checks\n",
       "0      Yes  White  2002   21    Male      Yes     Yes       3\n",
       "1       No  Black  1999   17    Male      Yes     Yes       3\n",
       "2      Yes  White  2000   24    Male      Yes     Yes       3\n",
       "3       No  Black  2000   46    Male      Yes     Yes       1\n",
       "4      Yes  Black  1999   27  Female      Yes     Yes       1"
      ]
     },
     "execution_count": 14,
     "metadata": {},
     "output_type": "execute_result"
    }
   ],
   "source": [
    "df_arrest.drop('Unnamed: 0',axis=1,inplace=True)\n",
    "df_arrest.head()"
   ]
  },
  {
   "cell_type": "markdown",
   "id": "9f6da8fc",
   "metadata": {},
   "source": [
    "El dataset no contiene datos nulos, asi que no hace falta eliminar mas datos o rellenar espacios."
   ]
  },
  {
   "cell_type": "markdown",
   "id": "471575b1",
   "metadata": {},
   "source": [
    "# Análisis exploratorio de datos\n",
    "### ¿Cuál es la distribución de arrestos por posesión de marihuana en función del género?"
   ]
  },
  {
   "cell_type": "code",
   "execution_count": 30,
   "id": "7c2c9af8",
   "metadata": {},
   "outputs": [
    {
     "data": {
      "text/plain": [
       "<Figure size 800x800 with 0 Axes>"
      ]
     },
     "metadata": {},
     "output_type": "display_data"
    },
    {
     "data": {
      "image/png": "[encoded data removed]",
      "text/plain": [
       "<Figure size 600.25x500 with 1 Axes>"
      ]
     },
     "metadata": {},
     "output_type": "display_data"
    }
   ],
   "source": [
    "fig = plt.figure(figsize=(8,8))\n",
    "sns.displot(data=df_arrest,x='year',kind='hist',hue='sex',multiple='dodge')\n",
    "plt.show()"
   ]
  },
  {
   "cell_type": "markdown",
   "id": "2174ac00",
   "metadata": {},
   "source": [
    "Observamos que hay más hombres arrestados por posesión de marihuana ene el paso del tiempo."
   ]
  },
  {
   "cell_type": "markdown",
   "id": "d812547e",
   "metadata": {},
   "source": [
    "### ¿Existen diferencias en las tasas de arresto por posesión de marihuana entre diferentes grupos de edad?"
   ]
  },
  {
   "cell_type": "code",
   "execution_count": 43,
   "id": "26d75078",
   "metadata": {},
   "outputs": [
    {
     "data": {
      "image/png": "[encoded data removed]",
      "text/plain": [
       "<Figure size 600.25x500 with 1 Axes>"
      ]
     },
     "metadata": {},
     "output_type": "display_data"
    }
   ],
   "source": [
    "sns.displot(data=df_arrest,x='age',kind='kde',hue='sex',fill=True)\n",
    "plt.show()"
   ]
  },
  {
   "cell_type": "markdown",
   "id": "52d7ff54",
   "metadata": {},
   "source": [
    "Podemos ver que tanto para hombres como para mujeres la densidad aumenta en el rango de edad de 14 a 27 años aproximadamente."
   ]
  },
  {
   "cell_type": "markdown",
   "id": "7d3f57f8",
   "metadata": {},
   "source": [
    "### ¿Hay alguna relación entre la raza y los arrestos por posesión de marihuana?"
   ]
  },
  {
   "cell_type": "code",
   "execution_count": 57,
   "id": "4ede2e2f",
   "metadata": {},
   "outputs": [
    {
     "data": {
      "image/png": "[encoded data removed]",
      "text/plain": [
       "<Figure size 640x480 with 1 Axes>"
      ]
     },
     "metadata": {},
     "output_type": "display_data"
    }
   ],
   "source": [
    "sns.countplot(data=df_arrest,x='colour',hue='sex')\n",
    "plt.show()"
   ]
  },
  {
   "cell_type": "markdown",
   "id": "bf30414c",
   "metadata": {},
   "source": [
    "Hubo más arrestos a personas de raza blanca y son hombres."
   ]
  },
  {
   "cell_type": "code",
   "execution_count": null,
   "id": "20f3d733",
   "metadata": {},
   "outputs": [],
   "source": []
  }
 ],
 "metadata": {
  "kernelspec": {
   "display_name": "Python 3 (ipykernel)",
   "language": "python",
   "name": "python3"
  },
  "language_info": {
   "codemirror_mode": {
    "name": "ipython",
    "version": 3
   },
   "file_extension": ".py",
   "mimetype": "text/x-python",
   "name": "python",
   "nbconvert_exporter": "python",
   "pygments_lexer": "ipython3",
   "version": "3.10.9"
  }
 },
 "nbformat": 4,
 "nbformat_minor": 5
}
